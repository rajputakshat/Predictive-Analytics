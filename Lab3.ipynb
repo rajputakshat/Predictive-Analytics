{
  "nbformat": 4,
  "nbformat_minor": 0,
  "metadata": {
    "colab": {
      "provenance": []
    },
    "kernelspec": {
      "name": "python3",
      "display_name": "Python 3"
    },
    "language_info": {
      "name": "python"
    }
  },
  "cells": [
    {
      "cell_type": "code",
      "execution_count": null,
      "metadata": {
        "id": "zTpZEMmx5AJF"
      },
      "outputs": [],
      "source": [
        "import numpy as np\n",
        "# Using np.array\n",
        "array_1d = np.array([1, 2, 3, 4, 5])\n",
        "\n",
        "# Using np.arange (creates an array from start to stop with a step size)\n",
        "array_1d_arange = np.arange(1, 6)  # [1, 2, 3, 4, 5]\n",
        "\n",
        "# Using np.linspace (creates an array from start to stop with a specific number of points)\n",
        "array_1d_linspace = np.linspace(0, 1, 5)  # [0. 0.25 0.5 0.75 1.]\n"
      ]
    },
    {
      "cell_type": "code",
      "source": [
        "# Using np.array with nested lists\n",
        "array_2d = np.array([[1, 2, 3], [4, 5, 6]])\n",
        "\n",
        "# Using np.arange and reshaping\n",
        "array_2d_reshape = np.arange(1, 7).reshape(2, 3)\n"
      ],
      "metadata": {
        "id": "fRk1EB_B5ztG"
      },
      "execution_count": null,
      "outputs": []
    },
    {
      "cell_type": "code",
      "source": [
        "# Using np.array with nested lists\n",
        "array_3d = np.array([[[1, 2], [3, 4]], [[5, 6], [7, 8]]])\n",
        "\n",
        "# Using np.arange and reshaping\n",
        "array_3d_reshape = np.arange(1, 9).reshape(2, 2, 2)\n"
      ],
      "metadata": {
        "id": "Ga7mvJV753gd"
      },
      "execution_count": null,
      "outputs": []
    },
    {
      "cell_type": "code",
      "source": [
        "element = array_1d[2]  # Access the third element (index 2)\n"
      ],
      "metadata": {
        "id": "Mkt6KODG56Kc"
      },
      "execution_count": null,
      "outputs": []
    },
    {
      "cell_type": "code",
      "source": [
        "subarray = array_1d[1:4]  # Extract elements from index 1 to 3 ([2, 3, 4])\n"
      ],
      "metadata": {
        "id": "vlXwlO2058vX"
      },
      "execution_count": null,
      "outputs": []
    },
    {
      "cell_type": "code",
      "source": [
        "reshaped_array = array_1d.reshape(5, 1)  # Reshape to 5x1\n"
      ],
      "metadata": {
        "id": "JzFHByar5_Ed"
      },
      "execution_count": null,
      "outputs": []
    },
    {
      "cell_type": "code",
      "source": [
        "concatenated_array = np.concatenate((array_1d, array_1d_arange))  # Concatenate 1D arrays\n"
      ],
      "metadata": {
        "id": "SMg5ip9X6CSf"
      },
      "execution_count": null,
      "outputs": []
    },
    {
      "cell_type": "code",
      "source": [
        "ndim = array_3d.ndim  # 3\n"
      ],
      "metadata": {
        "id": "1RnkEVG36LS4"
      },
      "execution_count": null,
      "outputs": []
    },
    {
      "cell_type": "code",
      "source": [
        "shape = array_2d.shape  # (2, 3)\n"
      ],
      "metadata": {
        "id": "xgNn3mus6Hix"
      },
      "execution_count": null,
      "outputs": []
    },
    {
      "cell_type": "code",
      "source": [
        "flattened_array = array_2d.flatten()\n"
      ],
      "metadata": {
        "id": "N8U9cSyR6NST"
      },
      "execution_count": null,
      "outputs": []
    },
    {
      "cell_type": "code",
      "source": [
        "# Import necessary libraries\n",
        "import numpy as np\n",
        "import pandas as pd\n",
        "import seaborn as sns\n",
        "\n",
        "# Step 1: Load the Titanic dataset using Seaborn\n",
        "data = sns.load_dataset('titanic')\n",
        "\n",
        "# Display the first few rows of the dataset\n",
        "print(\"First 5 rows of the dataset:\\n\", data.head())\n",
        "\n",
        "# Step 2: Clean and preprocess the data\n",
        "# Handling missing values - fill with mean for numerical columns, mode for categorical columns\n",
        "data['age'].fillna(data['age'].mean(), inplace=True)  # Fill missing values in 'age' with mean\n",
        "data['embarked'].fillna(data['embarked'].mode()[0], inplace=True)  # Fill missing values in 'embarked' with mode\n",
        "data.drop(columns=['deck'], inplace=True)  # Drop 'deck' column due to too many missing values\n",
        "\n",
        "# Drop rows with any remaining missing values\n",
        "data.dropna(inplace=True)\n",
        "\n",
        "# Step 3: Normalization (Scaling values between 0 and 1 for numerical columns)\n",
        "numeric_cols = data.select_dtypes(include=[np.number]).columns  # Select only numeric columns\n",
        "normalized_data = data.copy()\n",
        "normalized_data[numeric_cols] = (data[numeric_cols] - data[numeric_cols].min()) / (data[numeric_cols].max() - data[numeric_cols].min())\n",
        "\n",
        "# Step 4: Standardization (Scaling values to have mean 0 and variance 1 for numerical columns)\n",
        "standardized_data = data.copy()\n",
        "standardized_data[numeric_cols] = (data[numeric_cols] - data[numeric_cols].mean()) / data[numeric_cols].std()\n",
        "\n",
        "# Step 5: Calculate statistical measures\n",
        "mean = data.mean(numeric_only=True)             # Mean of each numerical column\n",
        "median = data.median(numeric_only=True)         # Median of each numerical column\n",
        "std_dev = data.std(numeric_only=True)           # Standard deviation of each numerical column\n",
        "variance = data.var(numeric_only=True)          # Variance of each numerical column\n",
        "\n",
        "# Display the calculated statistical measures\n",
        "print(\"\\nMean:\\n\", mean)\n",
        "print(\"\\nMedian:\\n\", median)\n",
        "print(\"\\nStandard Deviation:\\n\", std_dev)\n",
        "print(\"\\nVariance:\\n\", variance)\n",
        "\n",
        "# Display normalized and standardized data\n",
        "print(\"\\nNormalized Data (first 5 rows):\\n\", normalized_data.head())\n",
        "print(\"\\nStandardized Data (first 5 rows):\\n\", standardized_data.head())\n"
      ],
      "metadata": {
        "colab": {
          "base_uri": "https://localhost:8080/"
        },
        "id": "i63SnH6s6pLr",
        "outputId": "ec7bd39c-2a40-4c48-d4f9-a9921876f552"
      },
      "execution_count": null,
      "outputs": [
        {
          "output_type": "stream",
          "name": "stdout",
          "text": [
            "First 5 rows of the dataset:\n",
            "    survived  pclass     sex   age  sibsp  parch     fare embarked  class  \\\n",
            "0         0       3    male  22.0      1      0   7.2500        S  Third   \n",
            "1         1       1  female  38.0      1      0  71.2833        C  First   \n",
            "2         1       3  female  26.0      0      0   7.9250        S  Third   \n",
            "3         1       1  female  35.0      1      0  53.1000        S  First   \n",
            "4         0       3    male  35.0      0      0   8.0500        S  Third   \n",
            "\n",
            "     who  adult_male deck  embark_town alive  alone  \n",
            "0    man        True  NaN  Southampton    no  False  \n",
            "1  woman       False    C    Cherbourg   yes  False  \n",
            "2  woman       False  NaN  Southampton   yes   True  \n",
            "3  woman       False    C  Southampton   yes  False  \n",
            "4    man        True  NaN  Southampton    no   True  \n",
            "\n",
            "Mean:\n",
            " survived       0.382452\n",
            "pclass         2.311586\n",
            "age           29.653446\n",
            "sibsp          0.524184\n",
            "parch          0.382452\n",
            "fare          32.096681\n",
            "adult_male     0.604049\n",
            "alone          0.601800\n",
            "dtype: float64\n",
            "\n",
            "Median:\n",
            " survived       0.000000\n",
            "pclass         3.000000\n",
            "age           29.699118\n",
            "sibsp          0.000000\n",
            "parch          0.000000\n",
            "fare          14.454200\n",
            "adult_male     1.000000\n",
            "alone          1.000000\n",
            "dtype: float64\n",
            "\n",
            "Standard Deviation:\n",
            " survived       0.486260\n",
            "pclass         0.834700\n",
            "age           12.968366\n",
            "sibsp          1.103705\n",
            "parch          0.806761\n",
            "fare          49.697504\n",
            "adult_male     0.489329\n",
            "alone          0.489803\n",
            "dtype: float64\n",
            "\n",
            "Variance:\n",
            " survived         0.236448\n",
            "pclass           0.696724\n",
            "age            168.178525\n",
            "sibsp            1.218164\n",
            "parch            0.650863\n",
            "fare          2469.841935\n",
            "adult_male       0.239443\n",
            "alone            0.239907\n",
            "dtype: float64\n",
            "\n",
            "Normalized Data (first 5 rows):\n",
            "    survived  pclass     sex       age  sibsp  parch      fare embarked  class  \\\n",
            "0       0.0     1.0    male  0.271174  0.125    0.0  0.014151        S  Third   \n",
            "1       1.0     0.0  female  0.472229  0.125    0.0  0.139136        C  First   \n",
            "2       1.0     1.0  female  0.321438  0.000    0.0  0.015469        S  Third   \n",
            "3       1.0     0.0  female  0.434531  0.125    0.0  0.103644        S  First   \n",
            "4       0.0     1.0    male  0.434531  0.000    0.0  0.015713        S  Third   \n",
            "\n",
            "     who  adult_male  embark_town alive  alone  \n",
            "0    man        True  Southampton    no  False  \n",
            "1  woman       False    Cherbourg   yes  False  \n",
            "2  woman       False  Southampton   yes   True  \n",
            "3  woman       False  Southampton   yes  False  \n",
            "4    man        True  Southampton    no   True  \n",
            "\n",
            "Standardized Data (first 5 rows):\n",
            "    survived    pclass     sex       age     sibsp     parch      fare  \\\n",
            "0 -0.786518  0.824744    male -0.590163  0.431108 -0.474059 -0.499958   \n",
            "1  1.269996 -1.571327  female  0.643609  0.431108 -0.474059  0.788503   \n",
            "2  1.269996  0.824744  female -0.281720 -0.474932 -0.474059 -0.486376   \n",
            "3  1.269996 -1.571327  female  0.412277  0.431108 -0.474059  0.422623   \n",
            "4 -0.786518  0.824744    male  0.412277 -0.474932 -0.474059 -0.483861   \n",
            "\n",
            "  embarked  class    who  adult_male  embark_town alive  alone  \n",
            "0        S  Third    man        True  Southampton    no  False  \n",
            "1        C  First  woman       False    Cherbourg   yes  False  \n",
            "2        S  Third  woman       False  Southampton   yes   True  \n",
            "3        S  First  woman       False  Southampton   yes  False  \n",
            "4        S  Third    man        True  Southampton    no   True  \n"
          ]
        }
      ]
    }
  ]
}