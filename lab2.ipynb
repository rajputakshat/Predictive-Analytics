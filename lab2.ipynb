{
  "nbformat": 4,
  "nbformat_minor": 0,
  "metadata": {
    "colab": {
      "provenance": []
    },
    "kernelspec": {
      "name": "python3",
      "display_name": "Python 3"
    },
    "language_info": {
      "name": "python"
    }
  },
  "cells": [
    {
      "cell_type": "code",
      "execution_count": null,
      "metadata": {
        "colab": {
          "base_uri": "https://localhost:8080/"
        },
        "id": "xFE1a-lA-1Oo",
        "outputId": "db6aed42-dd1a-4a6e-8b38-9d0fbcd666bf"
      },
      "outputs": [
        {
          "output_type": "stream",
          "name": "stdout",
          "text": [
            "First color: red\n",
            "Last color: blue\n",
            "Error: 'tuple' object does not support item assignment\n",
            "Occurrences of 'blue': 2\n"
          ]
        }
      ],
      "source": [
        "# Create a tuple of colors\n",
        "colors = (\"red\", \"blue\", \"green\", \"yellow\", \"blue\")\n",
        "\n",
        "# Access elements using indexing\n",
        "print(\"First color:\", colors[0])\n",
        "print(\"Last color:\", colors[-1])\n",
        "\n",
        "# Try to modify an element in the tuple\n",
        "try:\n",
        "    colors[0] = \"purple\"  # This will raise an error\n",
        "except TypeError as e:\n",
        "    print(\"Error:\", e)\n",
        "\n",
        "# Find the number of occurrences of a specific element\n",
        "print(\"Occurrences of 'blue':\", colors.count(\"blue\"))\n"
      ]
    },
    {
      "cell_type": "code",
      "source": [
        "# Create a dictionary\n",
        "person = {\"name\": \"John\", \"age\": 30, \"city\": \"New York\"}\n",
        "\n",
        "# Access values using keys\n",
        "print(\"Name:\", person[\"name\"])\n",
        "\n",
        "# Add a new key-value pair\n",
        "person[\"profession\"] = \"Engineer\"\n",
        "print(\"Updated Dictionary:\", person)\n",
        "\n",
        "# Modify an existing value\n",
        "person[\"age\"] = 35\n",
        "print(\"Modified Age:\", person)\n",
        "\n",
        "# Check if a key exists\n",
        "key = \"city\"\n",
        "if key in person:\n",
        "    print(f\"Key '{key}' exists.\")\n",
        "else:\n",
        "    print(f\"Key '{key}' does not exist.\")\n",
        "\n",
        "# Get a list of all keys and values\n",
        "print(\"Keys:\", list(person.keys()))\n",
        "print(\"Values:\", list(person.values()))\n"
      ],
      "metadata": {
        "colab": {
          "base_uri": "https://localhost:8080/"
        },
        "id": "x2gPA8HA_rLb",
        "outputId": "7889f411-05ce-44f9-e650-2c5d92be56a9"
      },
      "execution_count": null,
      "outputs": [
        {
          "output_type": "stream",
          "name": "stdout",
          "text": [
            "Name: John\n",
            "Updated Dictionary: {'name': 'John', 'age': 30, 'city': 'New York', 'profession': 'Engineer'}\n",
            "Modified Age: {'name': 'John', 'age': 35, 'city': 'New York', 'profession': 'Engineer'}\n",
            "Key 'city' exists.\n",
            "Keys: ['name', 'age', 'city', 'profession']\n",
            "Values: ['John', 35, 'New York', 'Engineer']\n"
          ]
        }
      ]
    },
    {
      "cell_type": "code",
      "source": [
        "# Create a list (mutable) and a tuple (immutable)\n",
        "my_list = [1, 2, 3]\n",
        "my_tuple = (1, 2, 3)\n",
        "\n",
        "# Modify an element in the list\n",
        "my_list[0] = 10\n",
        "print(\"Modified List:\", my_list)\n",
        "\n",
        "# Try to modify an element in the tuple\n",
        "try:\n",
        "    my_tuple[0] = 10  # This will raise an error\n",
        "except TypeError as e:\n",
        "    print(\"Error:\", e)\n",
        "\n",
        "# Explanation: Lists can be modified (mutable), whereas tuples cannot (immutable).\n"
      ],
      "metadata": {
        "colab": {
          "base_uri": "https://localhost:8080/"
        },
        "id": "cz1mG0Zy_yvg",
        "outputId": "838c8571-b62c-4ec4-d27d-d54a34dad78f"
      },
      "execution_count": null,
      "outputs": [
        {
          "output_type": "stream",
          "name": "stdout",
          "text": [
            "Modified List: [10, 2, 3]\n",
            "Error: 'tuple' object does not support item assignment\n"
          ]
        }
      ]
    },
    {
      "cell_type": "code",
      "source": [
        "# Take a number as input\n",
        "num = int(input(\"Enter a number: \"))\n",
        "\n",
        "# Print the multiplication table\n",
        "print(f\"Multiplication Table for {num}:\")\n",
        "for i in range(1, 11):\n",
        "    print(f\"{num} x {i} = {num * i}\")\n"
      ],
      "metadata": {
        "colab": {
          "base_uri": "https://localhost:8080/"
        },
        "id": "UV-TV8un_2jn",
        "outputId": "b45696c8-b879-425c-a51c-ebe5046d974b"
      },
      "execution_count": null,
      "outputs": [
        {
          "output_type": "stream",
          "name": "stdout",
          "text": [
            "Enter a number: 4\n",
            "Multiplication Table for 4:\n",
            "4 x 1 = 4\n",
            "4 x 2 = 8\n",
            "4 x 3 = 12\n",
            "4 x 4 = 16\n",
            "4 x 5 = 20\n",
            "4 x 6 = 24\n",
            "4 x 7 = 28\n",
            "4 x 8 = 32\n",
            "4 x 9 = 36\n",
            "4 x 10 = 40\n"
          ]
        }
      ]
    },
    {
      "cell_type": "code",
      "source": [
        "# Take a number as input\n",
        "num = int(input(\"Enter a number: \"))\n",
        "\n",
        "# Calculate the factorial\n",
        "factorial = 1\n",
        "if num < 0:\n",
        "    print(\"Factorial not defined for negative numbers.\")\n",
        "elif num == 0:\n",
        "    print(\"Factorial of 0 is 1.\")\n",
        "else:\n",
        "    for i in range(1, num + 1):\n",
        "        factorial *= i\n",
        "    print(f\"Factorial of {num} is {factorial}\")\n"
      ],
      "metadata": {
        "colab": {
          "base_uri": "https://localhost:8080/"
        },
        "id": "XlMXo7gO_9Qn",
        "outputId": "8899746c-7913-4393-9344-8375b7545ede"
      },
      "execution_count": null,
      "outputs": [
        {
          "output_type": "stream",
          "name": "stdout",
          "text": [
            "Enter a number: 5\n",
            "Factorial of 5 is 120\n"
          ]
        }
      ]
    },
    {
      "cell_type": "code",
      "source": [
        "while True:\n",
        "    print(\"\\nSimple Calculator\")\n",
        "    print(\"1. Add\")\n",
        "    print(\"2. Subtract\")\n",
        "    print(\"3. Multiply\")\n",
        "    print(\"4. Divide\")\n",
        "    print(\"5. Exit\")\n",
        "\n",
        "    # Take the user's choice\n",
        "    choice = int(input(\"Enter your choice (1-5): \"))\n",
        "\n",
        "    if choice == 5:\n",
        "        print(\"Exiting calculator. Goodbye!\")\n",
        "        break\n",
        "\n",
        "    # Take two numbers as input\n",
        "    num1 = float(input(\"Enter the first number: \"))\n",
        "    num2 = float(input(\"Enter the second number: \"))\n",
        "\n",
        "    if choice == 1:\n",
        "        print(f\"Result: {num1} + {num2} = {num1 + num2}\")\n",
        "    elif choice == 2:\n",
        "        print(f\"Result: {num1} - {num2} = {num1 - num2}\")\n",
        "    elif choice == 3:\n",
        "        print(f\"Result: {num1} * {num2} = {num1 * num2}\")\n",
        "    elif choice == 4:\n",
        "        if num2 == 0:\n",
        "            print(\"Error: Division by zero is not allowed.\")\n",
        "        else:\n",
        "            print(f\"Result: {num1} / {num2} = {num1 / num2}\")\n",
        "    else:\n",
        "        print(\"Invalid choice. Please try again.\")\n"
      ],
      "metadata": {
        "colab": {
          "base_uri": "https://localhost:8080/"
        },
        "id": "Wc-NU8KjANNb",
        "outputId": "fe6a6841-f0a6-4982-a735-29c5595625ae"
      },
      "execution_count": null,
      "outputs": [
        {
          "output_type": "stream",
          "name": "stdout",
          "text": [
            "\n",
            "Simple Calculator\n",
            "1. Add\n",
            "2. Subtract\n",
            "3. Multiply\n",
            "4. Divide\n",
            "5. Exit\n",
            "Enter your choice (1-5): 3\n",
            "Enter the first number: 4\n",
            "Enter the second number: 5\n",
            "Result: 4.0 * 5.0 = 20.0\n",
            "\n",
            "Simple Calculator\n",
            "1. Add\n",
            "2. Subtract\n",
            "3. Multiply\n",
            "4. Divide\n",
            "5. Exit\n"
          ]
        }
      ]
    },
    {
      "cell_type": "code",
      "source": [
        "# Take a number as input\n",
        "num = int(input(\"Enter a number: \"))\n",
        "\n",
        "# Check if the number is prime\n",
        "if num < 2:\n",
        "    print(f\"{num} is not a prime number.\")\n",
        "else:\n",
        "    is_prime = True\n",
        "    for i in range(2, int(num ** 0.5) + 1):\n",
        "        if num % i == 0:\n",
        "            is_prime = False\n",
        "            break\n",
        "    if is_prime:\n",
        "        print(f\"{num} is a prime number.\")\n",
        "    else:\n",
        "        print(f\"{num} is not a prime number.\")\n"
      ],
      "metadata": {
        "colab": {
          "base_uri": "https://localhost:8080/"
        },
        "id": "g8A6fswr__Vp",
        "outputId": "985843a1-af2b-4f4e-96ba-a66ebd99bf65"
      },
      "execution_count": null,
      "outputs": [
        {
          "output_type": "stream",
          "name": "stdout",
          "text": [
            "Enter a number: 4\n",
            "4 is not a prime number.\n"
          ]
        }
      ]
    }
  ]
}